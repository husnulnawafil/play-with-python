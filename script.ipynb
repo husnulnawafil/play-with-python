{
 "cells": [
  {
   "cell_type": "code",
   "execution_count": 8,
   "metadata": {},
   "outputs": [
    {
     "name": "stdout",
     "output_type": "stream",
     "text": [
      "hello world\n"
     ]
    }
   ],
   "source": [
    "print(\"hello world\")"
   ]
  },
  {
   "cell_type": "code",
   "execution_count": 9,
   "metadata": {},
   "outputs": [],
   "source": [
    "# This a python comment"
   ]
  },
  {
   "cell_type": "code",
   "execution_count": 11,
   "metadata": {},
   "outputs": [
    {
     "name": "stdout",
     "output_type": "stream",
     "text": [
      "3\n",
      "4.6\n",
      "Hello This My Number\n"
     ]
    }
   ],
   "source": [
    "# how to declare variables in python\n",
    "myNumber = 3\n",
    "\n",
    "myNumber2 = 4.6\n",
    "\n",
    "print(myNumber)\n",
    "print(myNumber2)\n",
    "\n",
    "myNumber = \"Hello This My Number\"  # Change to diff data type\n",
    "print(myNumber)\n"
   ]
  },
  {
   "cell_type": "code",
   "execution_count": 17,
   "metadata": {},
   "outputs": [
    {
     "name": "stdout",
     "output_type": "stream",
     "text": [
      "[]\n",
      "['Hello', 'Husnul', 1, ['hello', 1, 2, 'husnul'], 3.4]\n"
     ]
    }
   ],
   "source": [
    "# LIST IN PYTHON , SLICE IN GO\n",
    "\n",
    "myList = []\n",
    "\n",
    "print(myList)\n",
    "\n",
    "myList.append(\"Hello\")\n",
    "myList.append(\"Husnul\")\n",
    "myList.append(1)\n",
    "myList.append([\"hello\", 1,2,\"husnul\"])\n",
    "myList.append(3.4)\n",
    "\n",
    "print(myList)"
   ]
  },
  {
   "cell_type": "code",
   "execution_count": 23,
   "metadata": {},
   "outputs": [
    {
     "name": "stdout",
     "output_type": "stream",
     "text": [
      "your name is he\n"
     ]
    }
   ],
   "source": [
    "# INPUT FUNCTION\n",
    "name = input(\"Please insert your name \")\n",
    "\n",
    "print(\"your name is \" + name)"
   ]
  },
  {
   "cell_type": "code",
   "execution_count": 29,
   "metadata": {},
   "outputs": [
    {
     "name": "stdout",
     "output_type": "stream",
     "text": [
      "less than 3\n"
     ]
    }
   ],
   "source": [
    "# CONDITIONAL / SELECTION\n",
    "\n",
    "myNumber = int(input(\"insert a number\"))\n",
    "if (myNumber == 1):\n",
    "    print(\"ONE\")\n",
    "elif(myNumber < 3):\n",
    "    print(\"less than 3\")\n",
    "else:\n",
    "    print(\"uncommon number\")"
   ]
  },
  {
   "cell_type": "code",
   "execution_count": 32,
   "metadata": {},
   "outputs": [
    {
     "name": "stdout",
     "output_type": "stream",
     "text": [
      "Your name is Husnul\n",
      "You choose number 3\n"
     ]
    }
   ],
   "source": [
    "# FUNCTION\n",
    "name = input(\"...TYPE YOUR NAME...\")\n",
    "def printMyName(name):\n",
    "    print(\"Your name is \"+ name)\n",
    "\n",
    "printMyName(name)\n",
    "\n",
    "def printANumber(num):\n",
    "    print(\"You choose number \" + num)\n",
    "\n",
    "printANumber(num=input(\"...A NUMBER PLEASE ...\"))"
   ]
  },
  {
   "cell_type": "code",
   "execution_count": 34,
   "metadata": {},
   "outputs": [
    {
     "name": "stdout",
     "output_type": "stream",
     "text": [
      "START\n",
      "3\n"
     ]
    }
   ],
   "source": [
    "# How to run a main function\n",
    "def getANumber():\n",
    "    res = int(input(\"... A number please ...\"))\n",
    "    return res\n",
    "\n",
    "def Main():\n",
    "    print(\"START\")\n",
    "\n",
    "    out = getANumber()\n",
    "    print(out)\n",
    "\n",
    "if (__name__ == \"__main__\"):\n",
    "    Main()"
   ]
  },
  {
   "cell_type": "code",
   "execution_count": 37,
   "metadata": {},
   "outputs": [
    {
     "name": "stdout",
     "output_type": "stream",
     "text": [
      "0\n",
      "1\n",
      "2\n",
      "3\n",
      "4\n"
     ]
    }
   ],
   "source": [
    "# LOOPING \n",
    "for i in range (5): # For integer only\n",
    "    print(i)"
   ]
  },
  {
   "cell_type": "code",
   "execution_count": 39,
   "metadata": {},
   "outputs": [
    {
     "data": {
      "text/plain": [
       "50.26548245743669"
      ]
     },
     "execution_count": 39,
     "metadata": {},
     "output_type": "execute_result"
    }
   ],
   "source": [
    "import math\n",
    "\n",
    "pi = math.pi\n",
    "\n",
    "def CircleArea(pi, radius):\n",
    "    area = pi * math.pow(radius,2)\n",
    "    return area\n",
    "CircleArea(pi, 4)"
   ]
  }
 ],
 "metadata": {
  "kernelspec": {
   "display_name": "Python 3",
   "language": "python",
   "name": "python3"
  },
  "language_info": {
   "codemirror_mode": {
    "name": "ipython",
    "version": 3
   },
   "file_extension": ".py",
   "mimetype": "text/x-python",
   "name": "python",
   "nbconvert_exporter": "python",
   "pygments_lexer": "ipython3",
   "version": "3.11.1"
  },
  "orig_nbformat": 4,
  "vscode": {
   "interpreter": {
    "hash": "aee8b7b246df8f9039afb4144a1f6fd8d2ca17a180786b69acc140d282b71a49"
   }
  }
 },
 "nbformat": 4,
 "nbformat_minor": 2
}

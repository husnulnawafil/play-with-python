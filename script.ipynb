{
 "cells": [
  {
   "cell_type": "code",
   "execution_count": 1,
   "metadata": {},
   "outputs": [
    {
     "name": "stdout",
     "output_type": "stream",
     "text": [
      "hello world\n"
     ]
    }
   ],
   "source": [
    "print(\"hello world\")"
   ]
  },
  {
   "cell_type": "code",
   "execution_count": 49,
   "metadata": {},
   "outputs": [
    {
     "data": {
      "text/plain": [
       "'This is also\\nfor multiline comment purpose'"
      ]
     },
     "execution_count": 49,
     "metadata": {},
     "output_type": "execute_result"
    }
   ],
   "source": [
    "# This a python comment\n",
    "\n",
    "\"\"\"This is multiline comment in python\"\"\"\n",
    "\n",
    "'''This is also\n",
    "for multiline comment purpose'''"
   ]
  },
  {
   "cell_type": "code",
   "execution_count": 53,
   "metadata": {},
   "outputs": [
    {
     "name": "stdout",
     "output_type": "stream",
     "text": [
      "money 3\n",
      "23\n",
      "23\n",
      "3\n",
      "4.6\n",
      "Hello This My Number\n"
     ]
    }
   ],
   "source": [
    "# how to declare variables in python\n",
    "myNumber = 3\n",
    "\n",
    "# multi declaration\n",
    "a, b, c = \"husnul\", 23, ['aceh', 'bandung', 'jakarta']\n",
    "\n",
    "# change type\n",
    "strb = str(b)\n",
    "\n",
    "# conditional operator\n",
    "\n",
    "money = 3 if 30 % 3 == 0 else 0\n",
    "\n",
    "print(\"money\", money)\n",
    "\n",
    "intstrb = int(strb)\n",
    "\n",
    "print(strb)\n",
    "print(intstrb)\n",
    "\n",
    "myNumber2 = 4.6\n",
    "\n",
    "print(myNumber)\n",
    "print(myNumber2)\n",
    "\n",
    "myNumber = \"Hello This My Number\"  # Change to diff data type\n",
    "print(myNumber)"
   ]
  },
  {
   "cell_type": "code",
   "execution_count": 57,
   "metadata": {},
   "outputs": [
    {
     "name": "stdout",
     "output_type": "stream",
     "text": [
      "dffd\n",
      "<class 'str'>\n"
     ]
    }
   ],
   "source": [
    "# Taking the input\n",
    "\n",
    "problem = input(\"tell us your problem\")\n",
    "\n",
    "print(problem)\n",
    "print(type(problem)) # to check variable type\n",
    "\n",
    "# Python program showing\n",
    "# a use of raw_input() in python 2\n",
    "# g = raw_input(\"Enter your name : \")\n",
    "# print g\n",
    "\n",
    "\n",
    "# we also able to typecasting input\n",
    "# to specific data type\n",
    "# by default it typecasted to str (string)\n",
    "amount = int(input())\n",
    "amount = float(input())\n"
   ]
  },
  {
   "cell_type": "code",
   "execution_count": 64,
   "metadata": {},
   "outputs": [
    {
     "name": "stdout",
     "output_type": "stream",
     "text": [
      "dhjdhdbb\n",
      "hdhdhd\n"
     ]
    }
   ],
   "source": [
    "# taking multiple inputs\n",
    "\n",
    "# Using split() method :\n",
    "boy, girl = input().split()\n",
    "print(boy)\n",
    "print(girl)"
   ]
  },
  {
   "cell_type": "code",
   "execution_count": 76,
   "metadata": {},
   "outputs": [
    {
     "name": "stdout",
     "output_type": "stream",
     "text": [
      "1 2 3 4\n",
      "1*2*3*4\n",
      "1*2*3*4/end/\n",
      "3>>>2>>>1>>>Start\n",
      "3>>>2>>>1>>>Start\n"
     ]
    }
   ],
   "source": [
    "# Output using print() function\n",
    "# print(value(s), sep= ' ', end = '\\n', file=file, flush=flush)\n",
    "\n",
    "a, b, c, d = 1, 2, 3, 4\n",
    "\n",
    "print(a,b,c,d, sep=\" \")\n",
    "print(a,b,c,d, sep=\"*\")\n",
    "print(a,b,c,d, sep=\"*\", end=\"/end/\")\n",
    "print()\n",
    "\n",
    "# without flush\n",
    "import time\n",
    "\n",
    "count_second2 = 3\n",
    "for i in reversed(range(count_second2 + 1)):\n",
    "\tif i > 0:\n",
    "\t\tprint(i, end='>>>')\n",
    "\t\ttime.sleep(1)\n",
    "\telse:\n",
    "\t\tprint('Start')\n",
    "\n",
    "# with flush\n",
    "import time\n",
    "\n",
    "count_seconds = 3\n",
    "for i in reversed(range(count_seconds + 1)):\n",
    "\tif i == 3:\n",
    "\t\ttime.sleep(1)\n",
    "\tif i > 0:\n",
    "\t\tprint(i, end='>>>', flush = True)\n",
    "\t\ttime.sleep(1)\n",
    "\telse:\n",
    "\t\tprint('Start')\n"
   ]
  },
  {
   "cell_type": "code",
   "execution_count": 77,
   "metadata": {},
   "outputs": [
    {
     "name": "stdout",
     "output_type": "stream",
     "text": [
      "geeks geeksforgeeks\n",
      "1 2 3 4 1 2 3 4 5 6\n"
     ]
    }
   ],
   "source": [
    "# print without new line\n",
    "\n",
    "# Python 3 code for printing\n",
    "# on the same line printing\n",
    "# geeks and geeksforgeeks\n",
    "# in the same line\n",
    "\n",
    "print(\"geeks\", end =\" \")\n",
    "print(\"geeksforgeeks\")\n",
    "\n",
    "# array\n",
    "a = [1, 2, 3, 4]\n",
    "\n",
    "# printing a element in same\n",
    "# line\n",
    "for i in range(4):\n",
    "\tprint(a[i], end =\" \")\n",
    "\n",
    "# Print without newline in Python 3.x without using for loop\n",
    "\n",
    "l=[1,2,3,4,5,6]\n",
    "\n",
    "# using * symbol prints the list\n",
    "# elements in a single line\n",
    "print(*l)\n",
    "\n",
    "import antigravity # LOL must try"
   ]
  },
  {
   "cell_type": "code",
   "execution_count": 82,
   "metadata": {},
   "outputs": [
    {
     "name": "stdout",
     "output_type": "stream",
     "text": [
      "Geeks : 1000, Portal : 5.33\n",
      "Total students : 240, Boys : 120\n",
      "    031\n",
      " 3.561E+02\n",
      "Center aligned string with fillchr: \n",
      "##########I love geeksforgeeks##########\n",
      "The left aligned string is : \n",
      "I love geeksforgeeks--------------------\n",
      "The right aligned string is : \n",
      "--------------------I love geeksforgeeks\n"
     ]
    }
   ],
   "source": [
    "# Output Formatting\n",
    "\n",
    "# Python program showing how to use\n",
    "# string modulo operator(%) to print\n",
    "# fancier output\n",
    "\n",
    "# print integer and float value\n",
    "print(\"Geeks : %2d, Portal : %0.2f\" % (1000, 5.333))\n",
    "\n",
    "# print integer value\n",
    "print(\"Total students : %3d, Boys : %2d\" % (240, 120))\n",
    "\n",
    "# print octal value\n",
    "print(\"%7.3o\" % (25))\n",
    "\n",
    "# print exponential value\n",
    "print(\"%10.3E\" % (356.08977))\n",
    "\n",
    "# Python program to\n",
    "# format a output using\n",
    "# string() method\n",
    "\n",
    "cstr = \"I love geeksforgeeks\"\n",
    "\n",
    "# Printing the center aligned\n",
    "# string with fillchr\n",
    "print (\"Center aligned string with fillchr: \")\n",
    "print (cstr.center(40, '#'))\n",
    "\n",
    "# Printing the left aligned\n",
    "# string with \"-\" padding\n",
    "print (\"The left aligned string is : \")\n",
    "print (cstr.ljust(40, '-'))\n",
    "\n",
    "# Printing the right aligned string\n",
    "# with \"-\" padding\n",
    "print (\"The right aligned string is : \")\n",
    "print (cstr.rjust(40, '-'))\n"
   ]
  },
  {
   "cell_type": "code",
   "execution_count": 4,
   "metadata": {},
   "outputs": [
    {
     "name": "stdout",
     "output_type": "stream",
     "text": [
      "[]\n",
      "['Hello', 'Husnul', 1, ['hello', 1, 2, 'husnul'], 3.4]\n"
     ]
    }
   ],
   "source": [
    "# LIST IN PYTHON , SLICE IN GO\n",
    "\n",
    "myList = []\n",
    "\n",
    "print(myList)\n",
    "\n",
    "myList.append(\"Hello\")\n",
    "myList.append(\"Husnul\")\n",
    "myList.append(1)\n",
    "myList.append([\"hello\", 1,2,\"husnul\"])\n",
    "myList.append(3.4)\n",
    "\n",
    "print(myList)"
   ]
  },
  {
   "cell_type": "code",
   "execution_count": null,
   "metadata": {},
   "outputs": [],
   "source": [
    "# INPUT FUNCTION\n",
    "name = input(\"Please insert your name \")\n",
    "\n",
    "print(\"your name is \" + name)"
   ]
  },
  {
   "cell_type": "code",
   "execution_count": null,
   "metadata": {},
   "outputs": [],
   "source": [
    "# CONDITIONAL / SELECTION\n",
    "\n",
    "myNumber = int(input(\"insert a number\"))\n",
    "if (myNumber == 1):\n",
    "    print(\"ONE\")\n",
    "elif(myNumber < 3):\n",
    "    print(\"less than 3\")\n",
    "else:\n",
    "    print(\"uncommon number\")"
   ]
  },
  {
   "cell_type": "code",
   "execution_count": null,
   "metadata": {},
   "outputs": [],
   "source": [
    "# FUNCTION\n",
    "name = input(\"...TYPE YOUR NAME...\")\n",
    "def printMyName(name):\n",
    "    print(\"Your name is \"+ name)\n",
    "\n",
    "printMyName(name)\n",
    "\n",
    "def printANumber(num):\n",
    "    print(\"You choose number \" + num)\n",
    "\n",
    "printANumber(num=input(\"...A NUMBER PLEASE ...\"))"
   ]
  },
  {
   "cell_type": "code",
   "execution_count": null,
   "metadata": {},
   "outputs": [],
   "source": [
    "# How to run a main function\n",
    "def getANumber():\n",
    "    res = int(input(\"... A number please ...\"))\n",
    "    return res\n",
    "\n",
    "def Main():\n",
    "    print(\"START\")\n",
    "\n",
    "    out = getANumber()\n",
    "    print(out)\n",
    "\n",
    "if (__name__ == \"__main__\"):\n",
    "    Main()"
   ]
  },
  {
   "cell_type": "code",
   "execution_count": null,
   "metadata": {},
   "outputs": [],
   "source": [
    "# LOOPING \n",
    "for i in range (5): # For integer only\n",
    "    print(i)"
   ]
  },
  {
   "cell_type": "code",
   "execution_count": null,
   "metadata": {},
   "outputs": [],
   "source": [
    "import math\n",
    "\n",
    "pi = math.pi\n",
    "\n",
    "def CircleArea(pi, radius):\n",
    "    area = pi * math.pow(radius,2)\n",
    "    return area\n",
    "CircleArea(pi, 4)"
   ]
  },
  {
   "cell_type": "code",
   "execution_count": null,
   "metadata": {},
   "outputs": [],
   "source": [
    "# WHILE LOOP\n",
    "\n",
    "count = 0\n",
    "\n",
    "while (count < 5):\n",
    "    print(count)\n",
    "    count = count + 1"
   ]
  },
  {
   "cell_type": "code",
   "execution_count": null,
   "metadata": {},
   "outputs": [],
   "source": [
    "# PYTHON KEYWORD\n",
    "import keyword\n",
    "\n",
    "print(keyword.kwlist)"
   ]
  },
  {
   "cell_type": "code",
   "execution_count": null,
   "metadata": {},
   "outputs": [],
   "source": [
    "# TRUE AND FALSE\n",
    "print(False == 0)\n",
    "print(False == -1)\n",
    "print(True == 1)\n",
    "print(True == 2)\n",
    "\n",
    "print(True+True)\n",
    "print(False+False)\n",
    "print(False+True)\n",
    "\n",
    "print(None == 1)\n",
    "print(None == 0)\n",
    "print(None == False)\n",
    "print(None == [])\n",
    "print(None == {})"
   ]
  },
  {
   "cell_type": "code",
   "execution_count": null,
   "metadata": {},
   "outputs": [],
   "source": [
    "# AND, OR, NOT, IN, IS\n",
    "\n",
    "print(True or False)\n",
    "print(True and False)\n",
    "# or: This a logical operator in python. “or” Return the first True value.if not found return last. The truth table for “or” is depicted below. \n",
    "# and: This a logical operator in python. “and” Return the first false value. If not found return last. The truth table for “and” is depicted below.\n",
    "print(1 or 3 or 10 or 20)\n",
    "print(10 or 3 or 1 or 2)\n",
    "print(1 and 3 and 10 and 20)\n",
    "print(10 and 3 and 1 and 2)\n",
    "\n",
    "# not: This logical operator inverts the truth value. The truth table for “not” is depicted below. \n",
    "# in: This keyword is used to check if a container contains a value. This keyword is also used to loop through the container.\n",
    "# is: This keyword is used to test object identity, i.e to check if both the objects take the same memory location or not.\n",
    "\n",
    "print (not 1 ==1)\n",
    "print (not 1 !=1)\n",
    "\n",
    "print(\"s\" in \"husnul\")\n",
    "print(\"s\" in \"HUSNUL\")\n",
    "print(\"s\" in \"HUSNULS\")\n",
    "print(\"s\" in \"HUSNULs\")\n",
    "\n",
    "print(\" \" is \" \") # will show warning\n",
    "\n",
    "print({} is {})"
   ]
  },
  {
   "cell_type": "code",
   "execution_count": 7,
   "metadata": {},
   "outputs": [
    {
     "name": "stdout",
     "output_type": "stream",
     "text": [
      "0 1 2 3 4 5 6 \n",
      "0 1 2 3 4 5 7 8 9 "
     ]
    }
   ],
   "source": [
    "# FOR, WHILE, BREAK, CONTINUE\n",
    "for i in range (10):\n",
    "    print(i, end=\" \")\n",
    "\n",
    "    if (i == 6): break\n",
    "\n",
    "print()\n",
    "\n",
    "c = 0\n",
    "while c < 10:\n",
    "    if c == 6:\n",
    "        c += 1\n",
    "        continue\n",
    "    else:\n",
    "        print(c, end=\" \")\n",
    "        c += 1"
   ]
  },
  {
   "cell_type": "code",
   "execution_count": 13,
   "metadata": {},
   "outputs": [
    {
     "name": "stdout",
     "output_type": "stream",
     "text": [
      "2\n",
      "2\n",
      "4\n",
      "6\n",
      "8\n",
      "10\n",
      "12\n",
      "14\n",
      "16\n",
      "18\n",
      "20\n"
     ]
    }
   ],
   "source": [
    "# RETURN AND YIELD\n",
    "\n",
    "# yield is like return but used to return a generator\n",
    "\n",
    "def firstPrime():\n",
    "    return 2\n",
    "\n",
    "print(firstPrime())\n",
    "\n",
    "def fun():\n",
    "    S = 0\n",
    "\n",
    "    for i in range (10):\n",
    "        S += 2\n",
    "        yield S\n",
    "\n",
    "for i in fun():\n",
    "    print(i)"
   ]
  },
  {
   "cell_type": "code",
   "execution_count": 14,
   "metadata": {},
   "outputs": [
    {
     "name": "stdout",
     "output_type": "stream",
     "text": [
      "Husnul\n",
      "23\n"
     ]
    }
   ],
   "source": [
    "# CLASS\n",
    "class Human:\n",
    "    Name = \"Husnul\"\n",
    "    Age = 23\n",
    "\n",
    "print(Human.Name)\n",
    "print(Human.Age)"
   ]
  },
  {
   "cell_type": "code",
   "execution_count": 16,
   "metadata": {},
   "outputs": [
    {
     "name": "stdout",
     "output_type": "stream",
     "text": [
      "3.141592653589793\n"
     ]
    }
   ],
   "source": [
    "# AS\n",
    "\n",
    "import math as m\n",
    "\n",
    "print(m.pi)"
   ]
  },
  {
   "cell_type": "code",
   "execution_count": 17,
   "metadata": {},
   "outputs": [],
   "source": [
    "n = 10\n",
    "for i in range(n):\n",
    "\t\n",
    "# pass can be used as placeholder\n",
    "# when code is to added later\n",
    "\tpass\n"
   ]
  },
  {
   "cell_type": "code",
   "execution_count": null,
   "metadata": {},
   "outputs": [],
   "source": [
    "# Lambda keyword is used to make inline returning functions with no statements allowed internally. \n",
    "\n",
    "# Lambda keyword\n",
    "g = lambda x: x*x*x\n",
    "\n",
    "print(g(7))"
   ]
  },
  {
   "cell_type": "code",
   "execution_count": 20,
   "metadata": {},
   "outputs": [
    {
     "name": "stdout",
     "output_type": "stream",
     "text": [
      "720\n",
      "720\n"
     ]
    }
   ],
   "source": [
    "# import keyword\n",
    "import math\n",
    "print(math.factorial(6))\n",
    "\n",
    "# from keyword\n",
    "from math import factorial\n",
    "print(factorial(6))"
   ]
  },
  {
   "cell_type": "code",
   "execution_count": 29,
   "metadata": {},
   "outputs": [
    {
     "name": "stdout",
     "output_type": "stream",
     "text": [
      "unable to divide by zero\n",
      "always executed\n"
     ]
    },
    {
     "ename": "AssertionError",
     "evalue": "divisor can not be zero",
     "output_type": "error",
     "traceback": [
      "\u001b[0;31m---------------------------------------------------------------------------\u001b[0m",
      "\u001b[0;31mAssertionError\u001b[0m                            Traceback (most recent call last)",
      "Cell \u001b[0;32mIn[29], line 18\u001b[0m\n\u001b[1;32m     15\u001b[0m \u001b[39mfinally\u001b[39;00m:\n\u001b[1;32m     16\u001b[0m     \u001b[39mprint\u001b[39m(\u001b[39m\"\u001b[39m\u001b[39malways executed\u001b[39m\u001b[39m\"\u001b[39m)\n\u001b[0;32m---> 18\u001b[0m \u001b[39massert\u001b[39;00m b \u001b[39m!=\u001b[39m \u001b[39m0\u001b[39m, \u001b[39m\"\u001b[39m\u001b[39mdivisor can not be zero\u001b[39m\u001b[39m\"\u001b[39m \u001b[39m#error thrower\u001b[39;00m\n",
      "\u001b[0;31mAssertionError\u001b[0m: divisor can not be zero"
     ]
    }
   ],
   "source": [
    "# Exception Handling Keywords\n",
    "\n",
    "# try : This keyword is used for exception handling, used to catch the errors in the code using the keyword except. Code in “try” block is checked, if there is any type of error, except block is executed.\n",
    "# except : As explained above, this works together with “try” to catch exceptions.\n",
    "# finally : No matter what is result of the “try” block, block termed “finally” is always executed.\n",
    "# raise: We can raise an exception explicitly with the raise keyword\n",
    "# assert: This function is used for debugging purposes. Usually used to check the correctness of code. If a statement is evaluated to be true, nothing happens, but when it is false, “AssertionError” is raised. One can also print a message with the error, separated by a comma.\n",
    "a = 5\n",
    "b = 0\n",
    "\n",
    "try:\n",
    "    print(a//b)\n",
    "except:\n",
    "    print(\"unable to divide by zero\")\n",
    "finally:\n",
    "    print(\"always executed\")\n",
    "\n",
    "assert b != 0, \"divisor can not be zero\" #error thrower\n",
    "\n"
   ]
  },
  {
   "cell_type": "code",
   "execution_count": 30,
   "metadata": {},
   "outputs": [
    {
     "name": "stdout",
     "output_type": "stream",
     "text": [
      "20\n",
      "Hello\n"
     ]
    },
    {
     "ename": "NameError",
     "evalue": "name 'my_variable1' is not defined",
     "output_type": "error",
     "traceback": [
      "\u001b[0;31m---------------------------------------------------------------------------\u001b[0m",
      "\u001b[0;31mNameError\u001b[0m                                 Traceback (most recent call last)",
      "Cell \u001b[0;32mIn[30], line 16\u001b[0m\n\u001b[1;32m     13\u001b[0m \u001b[39mdel\u001b[39;00m my_variable2\n\u001b[1;32m     15\u001b[0m \u001b[39m# check if my_variable1 and my_variable2 exists\u001b[39;00m\n\u001b[0;32m---> 16\u001b[0m \u001b[39mprint\u001b[39m(my_variable1)\n\u001b[1;32m     17\u001b[0m \u001b[39mprint\u001b[39m(my_variable2)\n",
      "\u001b[0;31mNameError\u001b[0m: name 'my_variable1' is not defined"
     ]
    }
   ],
   "source": [
    "# del keyword\n",
    "# del is used to delete a reference to an object. Any variable or list value can be deleted using del.\n",
    "\n",
    "my_variable1 = 20\n",
    "my_variable2 = \"Hello\"\n",
    "\n",
    "# check if my_variable1 and my_variable2 exists\n",
    "print(my_variable1)\n",
    "print(my_variable2)\n",
    "\n",
    "# delete both the variables\n",
    "del my_variable1\n",
    "del my_variable2\n",
    "\n",
    "# check if my_variable1 and my_variable2 exists\n",
    "print(my_variable1)\n",
    "print(my_variable2)\n"
   ]
  },
  {
   "cell_type": "code",
   "execution_count": 43,
   "metadata": {},
   "outputs": [
    {
     "name": "stdout",
     "output_type": "stream",
     "text": [
      "15\n",
      "17\n"
     ]
    }
   ],
   "source": [
    "# global and non local\n",
    "# global: This keyword is used to define a variable inside the function to be of a global scope.\n",
    "# non-local : This keyword works similar to the global, but rather than global, this keyword declares a variable to point to variable of outside enclosing function, in case of nested functions.\n",
    "n1 = 15\n",
    "def add():\n",
    "    n2 = 2\n",
    "    global n1\n",
    "    n1 = n1 + n2\n",
    "    print(n1)\n",
    "\n",
    "print(n1)\n",
    "add()"
   ]
  },
  {
   "cell_type": "code",
   "execution_count": 45,
   "metadata": {},
   "outputs": [
    {
     "name": "stdout",
     "output_type": "stream",
     "text": [
      "45\n",
      "30\n",
      "{45}\n",
      "2   3   4\n"
     ]
    }
   ],
   "source": [
    "# Declared using Continuation Character (\\):\n",
    "s = 1 + 2 + 3 + \\\n",
    "    4 + 5 + 6 + \\\n",
    "    7 + 8 + 9\n",
    "\n",
    "# Declared using parentheses () :\n",
    "n = (1 * 2 * 3 + 7 + 8 + 9)\n",
    "\n",
    "# Declared using square brackets [] :\n",
    "footballer = ['MESSI',\n",
    "          'NEYMAR',\n",
    "          'SUAREZ']\n",
    "\n",
    "# Declared using braces {} :\n",
    "x = {1 + 2 + 3 + 4 + 5 + 6 +\n",
    "     7 + 8 + 9}\n",
    "\n",
    "# Declared using semicolons(;) :\n",
    "flag = 2; ropes = 3; pole = 4\n",
    "\n",
    "print(s)\n",
    "print(n)\n",
    "print(x)\n",
    "print(flag, \" \", ropes, \" \", pole)"
   ]
  },
  {
   "cell_type": "code",
   "execution_count": null,
   "metadata": {},
   "outputs": [],
   "source": []
  }
 ],
 "metadata": {
  "kernelspec": {
   "display_name": "Python 3",
   "language": "python",
   "name": "python3"
  },
  "language_info": {
   "codemirror_mode": {
    "name": "ipython",
    "version": 3
   },
   "file_extension": ".py",
   "mimetype": "text/x-python",
   "name": "python",
   "nbconvert_exporter": "python",
   "pygments_lexer": "ipython3",
   "version": "3.11.1"
  },
  "orig_nbformat": 4,
  "vscode": {
   "interpreter": {
    "hash": "aee8b7b246df8f9039afb4144a1f6fd8d2ca17a180786b69acc140d282b71a49"
   }
  }
 },
 "nbformat": 4,
 "nbformat_minor": 2
}
